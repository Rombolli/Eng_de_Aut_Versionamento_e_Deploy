{
  "nbformat": 4,
  "nbformat_minor": 0,
  "metadata": {
    "kernelspec": {
      "display_name": "Python 3",
      "language": "python",
      "name": "python3"
    },
    "language_info": {
      "codemirror_mode": {
        "name": "ipython",
        "version": 3
      },
      "file_extension": ".py",
      "mimetype": "text/x-python",
      "name": "python",
      "nbconvert_exporter": "python",
      "pygments_lexer": "ipython3",
      "version": "3.8.8"
    },
    "colab": {
      "name": "Aula 1 - Gabarito.ipynb",
      "provenance": [],
      "include_colab_link": true
    }
  },
  "cells": [
    {
      "cell_type": "markdown",
      "metadata": {
        "id": "view-in-github",
        "colab_type": "text"
      },
      "source": [
        "<a href=\"https://colab.research.google.com/github/Rombolli/Eng_de_Aut_Versionamento_e_Deploy/blob/main/Aula_1_Gabarito.ipynb\" target=\"_parent\"><img src=\"https://colab.research.google.com/assets/colab-badge.svg\" alt=\"Open In Colab\"/></a>"
      ]
    },
    {
      "cell_type": "markdown",
      "metadata": {
        "id": "x26OObutY-9P"
      },
      "source": [
        ""
      ]
    },
    {
      "cell_type": "markdown",
      "metadata": {
        "id": "SkGPmEv9Xiai"
      },
      "source": [
        "# Automação de Sistemas e Processos com Python\n",
        "\n",
        "### Desafio:\n",
        "\n",
        "Todos os dias, o nosso sistema atualiza as vendas do dia anterior.\n",
        "O seu trabalho diário, como analista, é enviar um e-mail para a diretoria, assim que começar a trabalhar, com o faturamento e a quantidade de produtos vendidos no dia anterior\n",
        "\n",
        "E-mail da diretoria: seugmail+diretoria@gmail.com<br>\n",
        "Local onde o sistema disponibiliza as vendas do dia anterior: https://drive.google.com/drive/folders/149xknr9JvrlEnhNWO49zPcw0PW5icxga?usp=sharing\n",
        "\n",
        "Para resolver isso, vamos usar o pyautogui, uma biblioteca de automação de comandos do mouse e do teclado\n",
        "\n",
        "Comandos pyautogui: https://pyautogui.readthedocs.io/en/latest/quickstart.html"
      ]
    },
    {
      "cell_type": "code",
      "metadata": {
        "id": "yG7SoRPcXiax"
      },
      "source": [
        "import pyautogui\n",
        "import pyperclip\n",
        "import time\n",
        "\n",
        "pyautogui.PAUSE = 1\n",
        "\n",
        "# Passo 1: Entrar no sistema (no nosso caso, entrar no link)\n",
        "pyautogui.hotkey(\"ctrl\", \"t\")\n",
        "pyperclip.copy(\"https://drive.google.com/drive/folders/149xknr9JvrlEnhNWO49zPcw0PW5icxga?usp=sharing\")\n",
        "pyautogui.hotkey(\"ctrl\", \"v\")\n",
        "pyautogui.press(\"enter\")\n",
        "\n",
        "time.sleep(5)\n",
        "\n",
        "# Passo 2: Navegar até o local do relatório (entrar na pasta Exportar)\n",
        "pyautogui.click(x=516, y=316, clicks=2)\n",
        "time.sleep(2)\n",
        "\n",
        "# Passo 3: Fazer o download do relatório\n",
        "pyautogui.click(x=510, y=378)\n",
        "pyautogui.click(x=1108, y=176)\n",
        "pyautogui.click(x=951, y=719)\n",
        "time.sleep(5)"
      ],
      "execution_count": null,
      "outputs": []
    },
    {
      "cell_type": "markdown",
      "metadata": {
        "id": "O4ls7P4lXia1"
      },
      "source": [
        "### Vamos agora ler o arquivo baixado para pegar os indicadores\n",
        "\n",
        "- Faturamento\n",
        "- Quantidade de Produtos"
      ]
    },
    {
      "cell_type": "code",
      "metadata": {
        "id": "tqhdyAX2Xia3",
        "outputId": "7bbf3d3d-a950-4805-8541-e24336c5e98d"
      },
      "source": [
        "# Passo 4: Calcular os indicadores\n",
        "import pandas as pd\n",
        "\n",
        "tabela = pd.read_excel(r\"C://Users/alonp/Downloads/Vendas - Dez.xlsx\")\n",
        "display(tabela)\n",
        "faturamento = tabela[\"Valor Final\"].sum()\n",
        "quantidade = tabela[\"Quantidade\"].sum()"
      ],
      "execution_count": null,
      "outputs": [
        {
          "data": {
            "text/html": [
              "<div>\n",
              "<style scoped>\n",
              "    .dataframe tbody tr th:only-of-type {\n",
              "        vertical-align: middle;\n",
              "    }\n",
              "\n",
              "    .dataframe tbody tr th {\n",
              "        vertical-align: top;\n",
              "    }\n",
              "\n",
              "    .dataframe thead th {\n",
              "        text-align: right;\n",
              "    }\n",
              "</style>\n",
              "<table border=\"1\" class=\"dataframe\">\n",
              "  <thead>\n",
              "    <tr style=\"text-align: right;\">\n",
              "      <th></th>\n",
              "      <th>Código Venda</th>\n",
              "      <th>Data</th>\n",
              "      <th>ID Loja</th>\n",
              "      <th>Produto</th>\n",
              "      <th>Quantidade</th>\n",
              "      <th>Valor Unitário</th>\n",
              "      <th>Valor Final</th>\n",
              "    </tr>\n",
              "  </thead>\n",
              "  <tbody>\n",
              "    <tr>\n",
              "      <th>0</th>\n",
              "      <td>65014</td>\n",
              "      <td>2019-12-01</td>\n",
              "      <td>Shopping Morumbi</td>\n",
              "      <td>Sunga Listrado</td>\n",
              "      <td>5</td>\n",
              "      <td>114</td>\n",
              "      <td>570</td>\n",
              "    </tr>\n",
              "    <tr>\n",
              "      <th>1</th>\n",
              "      <td>65014</td>\n",
              "      <td>2019-12-01</td>\n",
              "      <td>Shopping Morumbi</td>\n",
              "      <td>Casaco Listrado</td>\n",
              "      <td>1</td>\n",
              "      <td>269</td>\n",
              "      <td>269</td>\n",
              "    </tr>\n",
              "    <tr>\n",
              "      <th>2</th>\n",
              "      <td>65016</td>\n",
              "      <td>2019-12-01</td>\n",
              "      <td>Iguatemi Campinas</td>\n",
              "      <td>Sapato Listrado</td>\n",
              "      <td>2</td>\n",
              "      <td>363</td>\n",
              "      <td>726</td>\n",
              "    </tr>\n",
              "    <tr>\n",
              "      <th>3</th>\n",
              "      <td>65016</td>\n",
              "      <td>2019-12-01</td>\n",
              "      <td>Iguatemi Campinas</td>\n",
              "      <td>Casaco</td>\n",
              "      <td>1</td>\n",
              "      <td>250</td>\n",
              "      <td>250</td>\n",
              "    </tr>\n",
              "    <tr>\n",
              "      <th>4</th>\n",
              "      <td>65017</td>\n",
              "      <td>2019-12-01</td>\n",
              "      <td>Shopping SP Market</td>\n",
              "      <td>Gorro Liso</td>\n",
              "      <td>3</td>\n",
              "      <td>92</td>\n",
              "      <td>276</td>\n",
              "    </tr>\n",
              "    <tr>\n",
              "      <th>...</th>\n",
              "      <td>...</td>\n",
              "      <td>...</td>\n",
              "      <td>...</td>\n",
              "      <td>...</td>\n",
              "      <td>...</td>\n",
              "      <td>...</td>\n",
              "      <td>...</td>\n",
              "    </tr>\n",
              "    <tr>\n",
              "      <th>7084</th>\n",
              "      <td>69996</td>\n",
              "      <td>2019-12-26</td>\n",
              "      <td>Center Shopping Uberlândia</td>\n",
              "      <td>Short Listrado</td>\n",
              "      <td>2</td>\n",
              "      <td>102</td>\n",
              "      <td>204</td>\n",
              "    </tr>\n",
              "    <tr>\n",
              "      <th>7085</th>\n",
              "      <td>69996</td>\n",
              "      <td>2019-12-26</td>\n",
              "      <td>Center Shopping Uberlândia</td>\n",
              "      <td>Mochila</td>\n",
              "      <td>4</td>\n",
              "      <td>270</td>\n",
              "      <td>1080</td>\n",
              "    </tr>\n",
              "    <tr>\n",
              "      <th>7086</th>\n",
              "      <td>69996</td>\n",
              "      <td>2019-12-26</td>\n",
              "      <td>Center Shopping Uberlândia</td>\n",
              "      <td>Pulseira Estampa</td>\n",
              "      <td>1</td>\n",
              "      <td>87</td>\n",
              "      <td>87</td>\n",
              "    </tr>\n",
              "    <tr>\n",
              "      <th>7087</th>\n",
              "      <td>69997</td>\n",
              "      <td>2019-12-26</td>\n",
              "      <td>Ribeirão Shopping</td>\n",
              "      <td>Camisa Listrado</td>\n",
              "      <td>1</td>\n",
              "      <td>108</td>\n",
              "      <td>108</td>\n",
              "    </tr>\n",
              "    <tr>\n",
              "      <th>7088</th>\n",
              "      <td>69997</td>\n",
              "      <td>2019-12-26</td>\n",
              "      <td>Ribeirão Shopping</td>\n",
              "      <td>Short Linho</td>\n",
              "      <td>2</td>\n",
              "      <td>133</td>\n",
              "      <td>266</td>\n",
              "    </tr>\n",
              "  </tbody>\n",
              "</table>\n",
              "<p>7089 rows × 7 columns</p>\n",
              "</div>"
            ],
            "text/plain": [
              "      Código Venda       Data                     ID Loja           Produto  \\\n",
              "0            65014 2019-12-01            Shopping Morumbi    Sunga Listrado   \n",
              "1            65014 2019-12-01            Shopping Morumbi   Casaco Listrado   \n",
              "2            65016 2019-12-01           Iguatemi Campinas   Sapato Listrado   \n",
              "3            65016 2019-12-01           Iguatemi Campinas            Casaco   \n",
              "4            65017 2019-12-01          Shopping SP Market        Gorro Liso   \n",
              "...            ...        ...                         ...               ...   \n",
              "7084         69996 2019-12-26  Center Shopping Uberlândia    Short Listrado   \n",
              "7085         69996 2019-12-26  Center Shopping Uberlândia           Mochila   \n",
              "7086         69996 2019-12-26  Center Shopping Uberlândia  Pulseira Estampa   \n",
              "7087         69997 2019-12-26           Ribeirão Shopping   Camisa Listrado   \n",
              "7088         69997 2019-12-26           Ribeirão Shopping       Short Linho   \n",
              "\n",
              "      Quantidade  Valor Unitário  Valor Final  \n",
              "0              5             114          570  \n",
              "1              1             269          269  \n",
              "2              2             363          726  \n",
              "3              1             250          250  \n",
              "4              3              92          276  \n",
              "...          ...             ...          ...  \n",
              "7084           2             102          204  \n",
              "7085           4             270         1080  \n",
              "7086           1              87           87  \n",
              "7087           1             108          108  \n",
              "7088           2             133          266  \n",
              "\n",
              "[7089 rows x 7 columns]"
            ]
          },
          "metadata": {},
          "output_type": "display_data"
        }
      ]
    },
    {
      "cell_type": "markdown",
      "metadata": {
        "id": "A4W6dGmAXia6"
      },
      "source": [
        "### Vamos agora enviar um e-mail pelo gmail"
      ]
    },
    {
      "cell_type": "code",
      "metadata": {
        "id": "jKUQix4DXia8"
      },
      "source": [
        "# Passo 5: Entrar no email\n",
        "pyautogui.hotkey(\"ctrl\", \"t\")\n",
        "pyperclip.copy(\"https://mail.google.com/mail/u/0/#inbox\")\n",
        "pyautogui.hotkey(\"ctrl\", \"v\")\n",
        "pyautogui.press(\"enter\")\n",
        "time.sleep(5)\n",
        "\n",
        "# Passo 6: Enviar por e-mail o resultado\n",
        "pyautogui.click(x=109, y=183)\n",
        "\n",
        "pyautogui.write(\"pythonimpressionador+diretoria@gmail.com\")\n",
        "pyautogui.press(\"tab\") # seleciona o email\n",
        "# escreve outro email\n",
        "# tab\n",
        "# escreve outro email\n",
        "# tab\n",
        "pyautogui.press(\"tab\") # pula pro campo de assunto\n",
        "pyperclip.copy(\"Relatório de Vendas\")\n",
        "pyautogui.hotkey(\"ctrl\", \"v\") # escrever o assunto\n",
        "pyautogui.press(\"tab\") #pular pro corpo do email\n",
        "\n",
        "texto = f\"\"\"\n",
        "Prezados, bom dia\n",
        "\n",
        "O faturamento de ontem foi de: R${faturamento:,.2f}\n",
        "A quantidade de produtos foi de: {quantidade:,}\n",
        "\n",
        "Abs\n",
        "LiraPython\"\"\"\n",
        "\n",
        "pyperclip.copy(texto)\n",
        "pyautogui.hotkey(\"ctrl\", \"v\")\n",
        "\n",
        "# clicar no botão enviar\n",
        "\n",
        "# apertar Ctrl Enter\n",
        "pyautogui.hotkey(\"ctrl\", \"enter\")"
      ],
      "execution_count": null,
      "outputs": []
    },
    {
      "cell_type": "markdown",
      "metadata": {
        "id": "DGUsOmy_Xia-"
      },
      "source": [
        "#### Use esse código para descobrir qual a posição de um item que queira clicar\n",
        "\n",
        "- Lembre-se: a posição na sua tela é diferente da posição na minha tela"
      ]
    },
    {
      "cell_type": "code",
      "metadata": {
        "id": "kMk2hR-EXibB",
        "outputId": "6823443c-08f4-41dd-be92-f97fe1536886"
      },
      "source": [
        "time.sleep(5)\n",
        "pyautogui.position()"
      ],
      "execution_count": null,
      "outputs": [
        {
          "data": {
            "text/plain": [
              "Point(x=425, y=420)"
            ]
          },
          "execution_count": 51,
          "metadata": {},
          "output_type": "execute_result"
        }
      ]
    },
    {
      "cell_type": "code",
      "metadata": {
        "id": "zymuBBM6XibD",
        "outputId": "53380954-43f9-4ee8-f58b-a7527005cede"
      },
      "source": [
        "# Como instalar\n",
        "!pip install pyautogui\n",
        "!pip install pyperclip"
      ],
      "execution_count": null,
      "outputs": [
        {
          "name": "stdout",
          "output_type": "stream",
          "text": [
            "Requirement already satisfied: pyautogui in c:\\users\\alonp\\anaconda3\\lib\\site-packages (0.9.52)\n",
            "Requirement already satisfied: pymsgbox in c:\\users\\alonp\\anaconda3\\lib\\site-packages (from pyautogui) (1.0.9)\n",
            "Requirement already satisfied: pygetwindow>=0.0.5 in c:\\users\\alonp\\anaconda3\\lib\\site-packages (from pyautogui) (0.0.9)\n",
            "Requirement already satisfied: pyscreeze>=0.1.21 in c:\\users\\alonp\\anaconda3\\lib\\site-packages (from pyautogui) (0.1.27)\n",
            "Requirement already satisfied: PyTweening>=1.0.1 in c:\\users\\alonp\\anaconda3\\lib\\site-packages (from pyautogui) (1.0.3)\n",
            "Requirement already satisfied: mouseinfo in c:\\users\\alonp\\anaconda3\\lib\\site-packages (from pyautogui) (0.1.3)\n",
            "Requirement already satisfied: pyrect in c:\\users\\alonp\\anaconda3\\lib\\site-packages (from pygetwindow>=0.0.5->pyautogui) (0.1.4)\n",
            "Requirement already satisfied: Pillow>=6.2.1 in c:\\users\\alonp\\anaconda3\\lib\\site-packages (from pyscreeze>=0.1.21->pyautogui) (8.2.0)\n",
            "Requirement already satisfied: pyperclip in c:\\users\\alonp\\anaconda3\\lib\\site-packages (from mouseinfo->pyautogui) (1.8.2)\n",
            "Requirement already satisfied: pyperclip in c:\\users\\alonp\\anaconda3\\lib\\site-packages (1.8.2)\n"
          ]
        }
      ]
    }
  ]
}